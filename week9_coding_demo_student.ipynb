{
 "cells": [
  {
   "cell_type": "markdown",
   "metadata": {
    "id": "iyiWjHJ3jh76"
   },
   "source": [
    "# [National Snow and Ice Data Center](https://nsidc.org/data/seaice_index) \n",
    "\n",
    "The NSIDC monthly Sea Ice Index provides a quick look at Arctic-wide changes in sea ice. It is a source for consistently processed ice extent and concentration images and data values since 1979. \n",
    "\n",
    "In this demo we will explore sea ice .nc data using Xarray. We will interpolate and fit data using SciPy, and make some plots."
   ]
  },
  {
   "cell_type": "markdown",
   "metadata": {
    "id": "Sy-Rt5p-ks4K"
   },
   "source": [
    "# Import essential functions and load ice data using Xarray."
   ]
  },
  {
   "cell_type": "code",
   "execution_count": 13,
   "metadata": {
    "colab": {
     "base_uri": "https://localhost:8080/",
     "height": 444
    },
    "executionInfo": {
     "elapsed": 629,
     "status": "ok",
     "timestamp": 1668552577604,
     "user": {
      "displayName": "Rose Sharon Wade",
      "userId": "05902729209638962087"
     },
     "user_tz": 480
    },
    "id": "m181cpUFVbRH",
    "outputId": "9bbe145d-bd02-4d3e-8efe-51688306cbd7",
    "tags": []
   },
   "outputs": [],
   "source": [
    "import numpy as np #imports\n",
    "import matplotlib.pyplot as plt\n",
    "import cartopy.crs as ccrs\n",
    "import cartopy.feature as cfeature\n",
    "import xarray as xr\n",
    "from scipy import stats\n",
    "import netCDF4\n",
    "import cmocean\n",
    "\n",
    "# open dataset here\n"
   ]
  },
  {
   "cell_type": "markdown",
   "metadata": {},
   "source": [
    "## Let's create a map of 1979 and 2019"
   ]
  },
  {
   "cell_type": "code",
   "execution_count": null,
   "metadata": {},
   "outputs": [],
   "source": []
  },
  {
   "cell_type": "markdown",
   "metadata": {},
   "source": [
    "## 2D interpolation\n",
    "Ice data is in 0.5x0.5 resolution. Let's resample and interpolate to 0.25x0.25 resolution!"
   ]
  },
  {
   "cell_type": "code",
   "execution_count": null,
   "metadata": {
    "tags": []
   },
   "outputs": [],
   "source": []
  },
  {
   "cell_type": "markdown",
   "metadata": {
    "id": "NHM_cU0izWZY"
   },
   "source": [
    "# Let's fit a linear function to the _sloping_ portions of each slice to describe how sea ice coverage varies with latitude."
   ]
  },
  {
   "cell_type": "code",
   "execution_count": null,
   "metadata": {
    "colab": {
     "base_uri": "https://localhost:8080/",
     "height": 312
    },
    "executionInfo": {
     "elapsed": 674,
     "status": "ok",
     "timestamp": 1668555913669,
     "user": {
      "displayName": "Rose Sharon Wade",
      "userId": "05902729209638962087"
     },
     "user_tz": 480
    },
    "id": "ValKcopu0HmW",
    "outputId": "d1656b91-9fd5-473b-937e-752a6e7240f2",
    "tags": []
   },
   "outputs": [],
   "source": []
  }
 ],
 "metadata": {
  "colab": {
   "authorship_tag": "ABX9TyNZHz43vdnMMnv/AkFFmaji",
   "collapsed_sections": [],
   "mount_file_id": "1zVnuk8BmR6y1gT1bdy_duWEPfxrhZNAY",
   "provenance": []
  },
  "kernelspec": {
   "display_name": "Python 3 (ipykernel)",
   "language": "python",
   "name": "python3"
  },
  "language_info": {
   "codemirror_mode": {
    "name": "ipython",
    "version": 3
   },
   "file_extension": ".py",
   "mimetype": "text/x-python",
   "name": "python",
   "nbconvert_exporter": "python",
   "pygments_lexer": "ipython3",
   "version": "3.10.10"
  }
 },
 "nbformat": 4,
 "nbformat_minor": 4
}
